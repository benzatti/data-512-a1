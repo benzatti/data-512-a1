{
 "cells": [
  {
   "cell_type": "markdown",
   "id": "0f565ef1",
   "metadata": {},
   "source": [
    "This is a report for Assignment A1: Data Curation of the course DATA 512 of the 2021 fall quarter in MSDS at UW.\n",
    "\n",
    "The goal of this assignment was to construct, analyze, and publish a dataset of monthly traffic on English Wikipedia from January 1 2008 through August 31 2021."
   ]
  },
  {
   "cell_type": "markdown",
   "id": "83f02ad7",
   "metadata": {},
   "source": [
    "# Stage 1: Data Acquisition"
   ]
  },
  {
   "cell_type": "markdown",
   "id": "cad99ac4",
   "metadata": {},
   "source": [
    "In order to cover the full time span from January 2008 to August 2021, two APIs must be used. The first is the legacy PageCounts API - covering the period December 2007 through July 2016 - and the second is the PageViews API - covering traffic from July 2015 and beyond."
   ]
  },
  {
   "cell_type": "markdown",
   "id": "b4fb40bd",
   "metadata": {},
   "source": [
    "An overview and reference for the Legacy PageCounts API can be found at:\n",
    "    https://wikitech.wikimedia.org/wiki/Analytics/AQS/Legacy_Pagecounts\n",
    "\n",
    "An overview and reference for the current PageViews API can be found at:\n",
    "    https://wikitech.wikimedia.org/wiki/Analytics/AQS/Pageviews"
   ]
  },
  {
   "cell_type": "markdown",
   "id": "3aa1ef64",
   "metadata": {},
   "source": [
    "The schema for the endpoints of both APIs, as described in https://wikimedia.org/api/rest_v1/#/, is the following:\n",
    "\n",
    "*/metrics/legacy/pagecounts/aggregate/{project}/{access-site}/{granularity}/{start}/{end}*\n",
    "\n",
    "*/metrics/pageviews/aggregate/{project}/{access}/{agent}/{granularity}/{start}/{end}*\n",
    "\n",
    "**project**:\n",
    "\n",
    "    The name of any Wikimedia project formatted like {language code}.{project name}, for example en.wikipedia.\n",
    "\n",
    "**access**:\n",
    "\n",
    "    all-access, desktop, mobile-app, mobile-web\n",
    "\n",
    "**access-site**:\n",
    "\n",
    "    all-sites, desktop-site, mobile-site\n",
    "\n",
    "**agent**:\n",
    "\n",
    "    This parameter can be used as a filter, accepting one of the following values: all-agents, user, spider, automated. Notice this capability is not present in the legacy API.\n",
    "\n",
    "**granularity**:\n",
    "\n",
    "    This parameter can be set as hourly, daily, and monthly. For the purpose of this project, we are interested in monthly data.\n",
    "    \n",
    "**start/end**:\n",
    "    \n",
    "    The timestamp of the first hour/day/month to include, in YYYYMMDDHH format."
   ]
  },
  {
   "cell_type": "code",
   "execution_count": 1,
   "id": "e7d54c10",
   "metadata": {},
   "outputs": [],
   "source": [
    "import json\n",
    "import requests"
   ]
  },
  {
   "cell_type": "markdown",
   "id": "a08de702",
   "metadata": {},
   "source": [
    "Here we define a helper method to issue a request to the specified url, retrieve the response and save a json file."
   ]
  },
  {
   "cell_type": "code",
   "execution_count": 2,
   "id": "a891b8f6",
   "metadata": {},
   "outputs": [],
   "source": [
    "def fetch_data_and_save_to_file(url, headers, access_type, start_date, end_date, file_name):\n",
    "    endpoint = url.format(access = access_type, start = start_date, end = end_date)\n",
    "    response = requests.get(endpoint, headers = headers)\n",
    "    with open(file_name, \"w\") as file:\n",
    "        json.dump(response.json(), file)\n"
   ]
  },
  {
   "cell_type": "markdown",
   "id": "5c28389a",
   "metadata": {},
   "source": [
    "Although the APIs only return view counts for a specific time range, both accept queries with a start and end dates in the range we are interested in. Therefore, we can make all queries using the same time filter."
   ]
  },
  {
   "cell_type": "code",
   "execution_count": 3,
   "id": "18db2e0c",
   "metadata": {},
   "outputs": [],
   "source": [
    "start_date = \"2008010100\"\n",
    "end_date = \"2021090100\" # Notice we set an upper bound here for day+1 at zero hours to include the full previous day."
   ]
  },
  {
   "cell_type": "markdown",
   "id": "ef1c491c",
   "metadata": {},
   "source": [
    "One of the rules of the API is that clients must send contact information through a header such as User-Agent. "
   ]
  },
  {
   "cell_type": "code",
   "execution_count": 28,
   "id": "ca837c9a",
   "metadata": {},
   "outputs": [],
   "source": [
    "headers = {\n",
    "    'Accept': 'application/json',\n",
    "    'User-Agent': 'https://github.com/<yourusername>',  # Value removed before commit\n",
    "    'From': '<email address>'                           # Value removed before commit\n",
    "}"
   ]
  },
  {
   "cell_type": "markdown",
   "id": "57817035",
   "metadata": {},
   "source": [
    "Finally, we make five calls, two to the legacy API and three to the new API, and fetch traffic metrics for desktop and mobile."
   ]
  },
  {
   "cell_type": "code",
   "execution_count": 5,
   "id": "df19715b",
   "metadata": {},
   "outputs": [],
   "source": [
    "for access_type in ['desktop-site', 'mobile-site']:\n",
    "    fetch_data_and_save_to_file(\n",
    "        url = 'https://wikimedia.org/api/rest_v1/metrics/legacy/pagecounts/aggregate/en.wikipedia/{access}/monthly/{start}/{end}',\n",
    "        headers = headers,\n",
    "        access_type = access_type,\n",
    "        start_date = start_date,\n",
    "        end_date = end_date,\n",
    "        file_name = f\"pagecounts_{access_type}_200801-202108.json\")\n",
    "    \n",
    "for access_type in ['desktop', 'mobile-app', 'mobile-web']:\n",
    "    fetch_data_and_save_to_file(\n",
    "        url = 'https://wikimedia.org/api/rest_v1/metrics/pageviews/aggregate/en.wikipedia/{access}/user/monthly/{start}/{end}',\n",
    "        headers = headers,\n",
    "        access_type = access_type,\n",
    "        start_date = start_date,\n",
    "        end_date = end_date,\n",
    "        file_name = f\"pageviews_{access_type}_200801-202108.json\")"
   ]
  },
  {
   "cell_type": "markdown",
   "id": "b288e99c",
   "metadata": {},
   "source": [
    "# Stage 2: Data Processing"
   ]
  },
  {
   "cell_type": "markdown",
   "id": "8f75bafc",
   "metadata": {},
   "source": [
    "The assignment has specific requirements regarding how the data should be formatted and eventually combined into a single CSV file. The following sections cover the necessary data processing."
   ]
  },
  {
   "cell_type": "code",
   "execution_count": 6,
   "id": "f3e3ad82",
   "metadata": {},
   "outputs": [],
   "source": [
    "import pandas as pd\n",
    "from functools import reduce"
   ]
  },
  {
   "cell_type": "code",
   "execution_count": 7,
   "id": "61b5be2b",
   "metadata": {},
   "outputs": [],
   "source": [
    "def read_table(file_name):\n",
    "    table = pd.read_json(file_name)\n",
    "\n",
    "    return table['items'].apply(pd.Series)"
   ]
  },
  {
   "cell_type": "markdown",
   "id": "b0d5c44c",
   "metadata": {},
   "source": [
    "For each of the intermediate tables, the value of the 'timestamp' is separated into four-digit 'year' (YYYY) and two-digit 'month' (MM). The original 'timestamp' along with other unnecessary columns are discarded. The column containing the view count is also renamed at this point so the tables can be merged together later."
   ]
  },
  {
   "cell_type": "code",
   "execution_count": 8,
   "id": "97b6532e",
   "metadata": {},
   "outputs": [],
   "source": [
    "def preprocess_table(file_name, views_column_name):\n",
    "    table = read_table(file_name)\n",
    "    \n",
    "    # Rename the 'views' column.\n",
    "    table.rename(columns={'views': views_column_name, 'count': views_column_name}, errors='ignore', inplace=True)\n",
    "    \n",
    "    # Split the timestamp into month and year\n",
    "    table['year'] = table['timestamp'].apply(lambda x: x[0:4])\n",
    "    table['month'] = table['timestamp'].apply(lambda x: x[4:6])\n",
    "    \n",
    "    table.drop(['agent', 'access', 'access-site', 'user', 'granularity', \"project\", \"timestamp\"], axis=1, errors='ignore', inplace=True)\n",
    "    \n",
    "    return table"
   ]
  },
  {
   "cell_type": "code",
   "execution_count": 9,
   "id": "1c0fd4b6",
   "metadata": {},
   "outputs": [],
   "source": [
    "# From the PageViews API\n",
    "pageviews_desktop = preprocess_table('pageviews_desktop_200801-202108.json', 'pageview_desktop_views')\n",
    "pageviews_mobile_app = preprocess_table('pageviews_mobile-app_200801-202108.json', 'pageview_mobile_app_views')\n",
    "pageviews_mobile_web = preprocess_table('pageviews_mobile-web_200801-202108.json', 'pageview_mobile_web_views')\n",
    "\n",
    "# From the Legacy PageCounts API\n",
    "pagecounts_desktop = preprocess_table('pagecounts_desktop-site_200801-202108.json', 'pagecount_desktop_views')\n",
    "pagecounts_mobile = preprocess_table('pagecounts_mobile-site_200801-202108.json', 'pagecount_mobile_views')"
   ]
  },
  {
   "cell_type": "markdown",
   "id": "12a0f4c7",
   "metadata": {},
   "source": [
    "Next, all tables are joined together."
   ]
  },
  {
   "cell_type": "code",
   "execution_count": 11,
   "id": "72fbacb4",
   "metadata": {},
   "outputs": [],
   "source": [
    "all_tables = [\n",
    "    pageviews_desktop,\n",
    "    pageviews_mobile_app,\n",
    "    pageviews_mobile_web,\n",
    "    pagecounts_desktop,\n",
    "    pagecounts_mobile]\n",
    "\n",
    "traffic = reduce(lambda left, right: pd.merge(left, right, on=['year', 'month'], how='outer'), all_tables).fillna(0)"
   ]
  },
  {
   "cell_type": "markdown",
   "id": "dd27d9ee",
   "metadata": {},
   "source": [
    "For all data collected from the PageViews API, the monthly values for mobile-app and mobile-web is combined to create a total mobile view count for each month."
   ]
  },
  {
   "cell_type": "code",
   "execution_count": 12,
   "id": "ae7eb6ab",
   "metadata": {},
   "outputs": [],
   "source": [
    "traffic['pageview_mobile_views'] = traffic['pageview_mobile_app_views'] + traffic['pageview_mobile_web_views']"
   ]
  },
  {
   "cell_type": "markdown",
   "id": "01d8a4a6",
   "metadata": {},
   "source": [
    "Two new columns are also computed to show the total number of views (desktop + mobile) captured per API."
   ]
  },
  {
   "cell_type": "code",
   "execution_count": 13,
   "id": "91ee5613",
   "metadata": {},
   "outputs": [],
   "source": [
    "traffic['pageview_all_views'] = traffic['pageview_desktop_views'] + traffic['pageview_mobile_views']\n",
    "traffic['pagecount_all_views'] = traffic['pagecount_desktop_views'] + traffic['pagecount_mobile_views']"
   ]
  },
  {
   "cell_type": "markdown",
   "id": "e59249ed",
   "metadata": {},
   "source": [
    "Finally, the columns are re-ordered and the rows are sorted by year and month."
   ]
  },
  {
   "cell_type": "code",
   "execution_count": 14,
   "id": "d1002245",
   "metadata": {},
   "outputs": [],
   "source": [
    "final_traffic_table = traffic[[\n",
    "    'year', \n",
    "    'month',\n",
    "    'pagecount_all_views',\n",
    "    'pagecount_desktop_views',\n",
    "    'pagecount_mobile_views',\n",
    "    'pageview_all_views',\n",
    "    'pageview_desktop_views',\n",
    "    'pageview_mobile_views']]\n",
    "\n",
    "final_traffic_table = final_traffic_table.apply(pd.to_numeric, downcast='integer')"
   ]
  },
  {
   "cell_type": "code",
   "execution_count": 15,
   "id": "98399308",
   "metadata": {},
   "outputs": [],
   "source": [
    "final_traffic_table.sort_values(by=['year','month'], inplace=True)"
   ]
  },
  {
   "cell_type": "markdown",
   "id": "f5d857dd",
   "metadata": {},
   "source": [
    "The output is then exported to a CSV file."
   ]
  },
  {
   "cell_type": "code",
   "execution_count": 17,
   "id": "71312907",
   "metadata": {
    "scrolled": true
   },
   "outputs": [],
   "source": [
    "final_traffic_table.to_csv(\"en-wikipedia_traffic_200712-202108.csv\", index=False)"
   ]
  },
  {
   "cell_type": "code",
   "execution_count": 18,
   "id": "23cc8770",
   "metadata": {},
   "outputs": [
    {
     "data": {
      "text/html": [
       "<div>\n",
       "<style scoped>\n",
       "    .dataframe tbody tr th:only-of-type {\n",
       "        vertical-align: middle;\n",
       "    }\n",
       "\n",
       "    .dataframe tbody tr th {\n",
       "        vertical-align: top;\n",
       "    }\n",
       "\n",
       "    .dataframe thead th {\n",
       "        text-align: right;\n",
       "    }\n",
       "</style>\n",
       "<table border=\"1\" class=\"dataframe\">\n",
       "  <thead>\n",
       "    <tr style=\"text-align: right;\">\n",
       "      <th></th>\n",
       "      <th>year</th>\n",
       "      <th>month</th>\n",
       "      <th>pagecount_all_views</th>\n",
       "      <th>pagecount_desktop_views</th>\n",
       "      <th>pagecount_mobile_views</th>\n",
       "      <th>pageview_all_views</th>\n",
       "      <th>pageview_desktop_views</th>\n",
       "      <th>pageview_mobile_views</th>\n",
       "    </tr>\n",
       "  </thead>\n",
       "  <tbody>\n",
       "    <tr>\n",
       "      <th>74</th>\n",
       "      <td>2008</td>\n",
       "      <td>1</td>\n",
       "      <td>4930902570</td>\n",
       "      <td>4930902570</td>\n",
       "      <td>0</td>\n",
       "      <td>0</td>\n",
       "      <td>0</td>\n",
       "      <td>0</td>\n",
       "    </tr>\n",
       "    <tr>\n",
       "      <th>75</th>\n",
       "      <td>2008</td>\n",
       "      <td>2</td>\n",
       "      <td>4818393763</td>\n",
       "      <td>4818393763</td>\n",
       "      <td>0</td>\n",
       "      <td>0</td>\n",
       "      <td>0</td>\n",
       "      <td>0</td>\n",
       "    </tr>\n",
       "    <tr>\n",
       "      <th>76</th>\n",
       "      <td>2008</td>\n",
       "      <td>3</td>\n",
       "      <td>4955405809</td>\n",
       "      <td>4955405809</td>\n",
       "      <td>0</td>\n",
       "      <td>0</td>\n",
       "      <td>0</td>\n",
       "      <td>0</td>\n",
       "    </tr>\n",
       "    <tr>\n",
       "      <th>77</th>\n",
       "      <td>2008</td>\n",
       "      <td>4</td>\n",
       "      <td>5159162183</td>\n",
       "      <td>5159162183</td>\n",
       "      <td>0</td>\n",
       "      <td>0</td>\n",
       "      <td>0</td>\n",
       "      <td>0</td>\n",
       "    </tr>\n",
       "    <tr>\n",
       "      <th>78</th>\n",
       "      <td>2008</td>\n",
       "      <td>5</td>\n",
       "      <td>5584691092</td>\n",
       "      <td>5584691092</td>\n",
       "      <td>0</td>\n",
       "      <td>0</td>\n",
       "      <td>0</td>\n",
       "      <td>0</td>\n",
       "    </tr>\n",
       "    <tr>\n",
       "      <th>...</th>\n",
       "      <td>...</td>\n",
       "      <td>...</td>\n",
       "      <td>...</td>\n",
       "      <td>...</td>\n",
       "      <td>...</td>\n",
       "      <td>...</td>\n",
       "      <td>...</td>\n",
       "      <td>...</td>\n",
       "    </tr>\n",
       "    <tr>\n",
       "      <th>69</th>\n",
       "      <td>2021</td>\n",
       "      <td>4</td>\n",
       "      <td>0</td>\n",
       "      <td>0</td>\n",
       "      <td>0</td>\n",
       "      <td>7641809575</td>\n",
       "      <td>2882714492</td>\n",
       "      <td>4759095083</td>\n",
       "    </tr>\n",
       "    <tr>\n",
       "      <th>70</th>\n",
       "      <td>2021</td>\n",
       "      <td>5</td>\n",
       "      <td>0</td>\n",
       "      <td>0</td>\n",
       "      <td>0</td>\n",
       "      <td>7800995735</td>\n",
       "      <td>2824416177</td>\n",
       "      <td>4976579558</td>\n",
       "    </tr>\n",
       "    <tr>\n",
       "      <th>71</th>\n",
       "      <td>2021</td>\n",
       "      <td>6</td>\n",
       "      <td>0</td>\n",
       "      <td>0</td>\n",
       "      <td>0</td>\n",
       "      <td>7090481783</td>\n",
       "      <td>2505971366</td>\n",
       "      <td>4584510417</td>\n",
       "    </tr>\n",
       "    <tr>\n",
       "      <th>72</th>\n",
       "      <td>2021</td>\n",
       "      <td>7</td>\n",
       "      <td>0</td>\n",
       "      <td>0</td>\n",
       "      <td>0</td>\n",
       "      <td>7544493789</td>\n",
       "      <td>2765584368</td>\n",
       "      <td>4778909421</td>\n",
       "    </tr>\n",
       "    <tr>\n",
       "      <th>73</th>\n",
       "      <td>2021</td>\n",
       "      <td>8</td>\n",
       "      <td>0</td>\n",
       "      <td>0</td>\n",
       "      <td>0</td>\n",
       "      <td>7495607934</td>\n",
       "      <td>2763413934</td>\n",
       "      <td>4732194000</td>\n",
       "    </tr>\n",
       "  </tbody>\n",
       "</table>\n",
       "<p>164 rows × 8 columns</p>\n",
       "</div>"
      ],
      "text/plain": [
       "    year  month  pagecount_all_views  pagecount_desktop_views  \\\n",
       "74  2008      1           4930902570               4930902570   \n",
       "75  2008      2           4818393763               4818393763   \n",
       "76  2008      3           4955405809               4955405809   \n",
       "77  2008      4           5159162183               5159162183   \n",
       "78  2008      5           5584691092               5584691092   \n",
       "..   ...    ...                  ...                      ...   \n",
       "69  2021      4                    0                        0   \n",
       "70  2021      5                    0                        0   \n",
       "71  2021      6                    0                        0   \n",
       "72  2021      7                    0                        0   \n",
       "73  2021      8                    0                        0   \n",
       "\n",
       "    pagecount_mobile_views  pageview_all_views  pageview_desktop_views  \\\n",
       "74                       0                   0                       0   \n",
       "75                       0                   0                       0   \n",
       "76                       0                   0                       0   \n",
       "77                       0                   0                       0   \n",
       "78                       0                   0                       0   \n",
       "..                     ...                 ...                     ...   \n",
       "69                       0          7641809575              2882714492   \n",
       "70                       0          7800995735              2824416177   \n",
       "71                       0          7090481783              2505971366   \n",
       "72                       0          7544493789              2765584368   \n",
       "73                       0          7495607934              2763413934   \n",
       "\n",
       "    pageview_mobile_views  \n",
       "74                      0  \n",
       "75                      0  \n",
       "76                      0  \n",
       "77                      0  \n",
       "78                      0  \n",
       "..                    ...  \n",
       "69             4759095083  \n",
       "70             4976579558  \n",
       "71             4584510417  \n",
       "72             4778909421  \n",
       "73             4732194000  \n",
       "\n",
       "[164 rows x 8 columns]"
      ]
     },
     "execution_count": 18,
     "metadata": {},
     "output_type": "execute_result"
    }
   ],
   "source": [
    "final_traffic_table"
   ]
  },
  {
   "cell_type": "markdown",
   "id": "14d861de",
   "metadata": {},
   "source": [
    "# Stage 3: Analysis"
   ]
  },
  {
   "cell_type": "markdown",
   "id": "36d1831b",
   "metadata": {},
   "source": [
    "In this stage, a visualization is provided for the monthly traffic data."
   ]
  },
  {
   "cell_type": "code",
   "execution_count": 19,
   "id": "eb086546",
   "metadata": {},
   "outputs": [],
   "source": [
    "import datetime\n",
    "import matplotlib.pyplot as plt"
   ]
  },
  {
   "cell_type": "markdown",
   "id": "2b16f985",
   "metadata": {},
   "source": [
    "A new column 'date' is defined, joining the year and month information."
   ]
  },
  {
   "cell_type": "code",
   "execution_count": 20,
   "id": "a5369ca3",
   "metadata": {},
   "outputs": [],
   "source": [
    "final_traffic_table['date'] = final_traffic_table.apply(lambda x: datetime.date(x['year'], x['month'], 1), axis=1)"
   ]
  },
  {
   "cell_type": "markdown",
   "id": "1c3698ba",
   "metadata": {},
   "source": [
    "Next, a plot of Views by Date is provided for each of the metrics (total, desktop, mobile) for each of the APIs (PageCount and PageView)."
   ]
  },
  {
   "cell_type": "code",
   "execution_count": 27,
   "id": "6bd61910",
   "metadata": {
    "scrolled": false
   },
   "outputs": [
    {
     "data": {
      "image/png": "[encoded data removed]",
      "text/plain": [
       "<Figure size 864x720 with 1 Axes>"
      ]
     },
     "metadata": {
      "needs_background": "light"
     },
     "output_type": "display_data"
    }
   ],
   "source": [
    "plt.figure(figsize=(12, 10))\n",
    "plt.xlabel(\"Date\")\n",
    "plt.ylabel(\"Views\")\n",
    "plt.title(\"Monthly Traffic of English Wikipedia (Pagecount & PageView APIs)\")\n",
    " \n",
    "plt.plot(final_traffic_table.date, final_traffic_table['pagecount_all_views'], color='tab:cyan', linestyle='-.', label=\"PageCount - Total Views\")\n",
    "plt.plot(final_traffic_table.date, final_traffic_table['pagecount_desktop_views'], color='tab:orange', linestyle='-.', label=\"PageCount - Desktop Views\")\n",
    "plt.plot(final_traffic_table.date, final_traffic_table['pagecount_mobile_views'], color='tab:red', linestyle='-.', label=\"PageCount - Mobile Views\")\n",
    "plt.plot(final_traffic_table.date, final_traffic_table['pageview_all_views'], color='tab:blue', linestyle='-', label=\"PageView - Total Views\")\n",
    "plt.plot(final_traffic_table.date, final_traffic_table['pageview_desktop_views'], color='tab:purple', linestyle='-', label=\"PageView - Desktop Views\")\n",
    "plt.plot(final_traffic_table.date, final_traffic_table['pageview_mobile_views'], color='tab:green', linestyle='-', label=\"PageView - Mobile Views\")\n",
    "\n",
    "plt.legend(loc='lower left')    \n",
    "plt.show()"
   ]
  },
  {
   "cell_type": "markdown",
   "id": "0c9d8538",
   "metadata": {},
   "source": [
    "Some observations from this analysis:\n",
    "\n",
    "- The PageCount metric collection stopped around July 2016. Even though this legacy API still responds to queries, no views are reported after July 2016.\n",
    "- For a few months around 2016, both APIs were functioning concurrently. It's possible to notice that *'PageCount - Mobile Views'* (in red) matches our aggregated *'PageView - Mobile Views'* (in green) during this window. This is probably the period that Wikimedia used to validate the new API before deprecating the old one, and also allow developers to transition between them.\n",
    "- Both legacy and current APIs show a downwards trend in the number of views for desktop (after 2013) and an upward trend in views from mobile devices."
   ]
  },
  {
   "cell_type": "code",
   "execution_count": null,
   "id": "da61540c",
   "metadata": {},
   "outputs": [],
   "source": []
  }
 ],
 "metadata": {
  "kernelspec": {
   "display_name": "Python [conda env:DATA512] *",
   "language": "python",
   "name": "conda-env-DATA512-py"
  },
  "language_info": {
   "codemirror_mode": {
    "name": "ipython",
    "version": 3
   },
   "file_extension": ".py",
   "mimetype": "text/x-python",
   "name": "python",
   "nbconvert_exporter": "python",
   "pygments_lexer": "ipython3",
   "version": "3.7.11"
  }
 },
 "nbformat": 4,
 "nbformat_minor": 5
}
